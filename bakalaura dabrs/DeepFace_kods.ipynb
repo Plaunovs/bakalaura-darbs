{
 "cells": [
  {
   "cell_type": "code",
   "execution_count": 1,
   "id": "8e8e1788",
   "metadata": {},
   "outputs": [
    {
     "name": "stdout",
     "output_type": "stream",
     "text": [
      "WARNING:tensorflow:From C:\\Users\\dplau\\anaconda3\\envs\\frenv\\lib\\site-packages\\tf_keras\\src\\losses.py:2976: The name tf.losses.sparse_softmax_cross_entropy is deprecated. Please use tf.compat.v1.losses.sparse_softmax_cross_entropy instead.\n",
      "\n"
     ]
    }
   ],
   "source": [
    "# --- 1) Importi + iestatījumi ---\n",
    "import os, time, random, pickle\n",
    "from pathlib import Path\n",
    "import numpy as np\n",
    "import psutil\n",
    "import matplotlib.pyplot as plt\n",
    "from deepface import DeepFace\n",
    "\n",
    "# Sistēmas resursiem\n",
    "PROC = psutil.Process(os.getpid())\n",
    "\n",
    "# ==== Pielāgo šeit ====\n",
    "BASE = Path(r\"C:\\Users\\dplau\\Desktop\\bakalaura_darbs\\DeepFace\\Dataset\")\n",
    "CACHE_DIR = BASE / \"_cache_deepface\"\n",
    "CACHE_DIR.mkdir(parents=True, exist_ok=True)\n",
    "\n",
    "MODEL_NAME   = \"ArcFace\"   # 512D iegultnes\n",
    "DETECTOR     = \"mtcnn\"     # 5 keypoints\n",
    "RESIZE_MAX   = 640         # samazinājums\n",
    "USE_CACHE    = True\n",
    "SEED = 42\n",
    "random.seed(SEED); np.random.seed(SEED)\n"
   ]
  },
  {
   "cell_type": "code",
   "execution_count": 2,
   "id": "fd171c92",
   "metadata": {},
   "outputs": [],
   "source": [
    "# --- 2) Palīgfunkcijas ---\n",
    "import cv2\n",
    "\n",
    "def list_images(folder: Path):\n",
    "    exts = {\".jpg\", \".jpeg\", \".png\"}\n",
    "    return sorted([p for p in folder.iterdir() if p.is_file() and p.suffix.lower() in exts])\n",
    "\n",
    "def load_and_downscale(path: Path, max_side=RESIZE_MAX):\n",
    "    img = cv2.imread(str(path))\n",
    "    if img is None: return None\n",
    "    h, w = img.shape[:2]\n",
    "    if max(h, w) > max_side:\n",
    "        scale = max_side / float(max(h, w))\n",
    "        img = cv2.resize(img, (int(w*scale), int(h*scale)))\n",
    "    return cv2.cvtColor(img, cv2.COLOR_BGR2RGB)\n",
    "\n",
    "def encode_one(path: Path):\n",
    "    \"\"\"Atgriež 512D vektoru ar DeepFace ArcFace + MTCNN.\"\"\"\n",
    "    cf = CACHE_DIR / (path.stem + \".pkl\")\n",
    "    if USE_CACHE and cf.exists():\n",
    "        try: return pickle.load(open(cf, \"rb\"))\n",
    "        except Exception: pass\n",
    "\n",
    "    try:\n",
    "        rep = DeepFace.represent(img_path=str(path),\n",
    "                                 model_name=MODEL_NAME,\n",
    "                                 detector_backend=DETECTOR,\n",
    "                                 enforce_detection=False)\n",
    "        vec = np.array(rep[0][\"embedding\"], dtype=np.float32)\n",
    "    except Exception:\n",
    "        vec = None\n",
    "\n",
    "    if USE_CACHE:\n",
    "        pickle.dump(vec, open(cf, \"wb\"))\n",
    "    return vec\n",
    "\n",
    "def l2n(v):  # normalizācija\n",
    "    n = np.linalg.norm(v) + 1e-12\n",
    "    return v / n\n",
    "\n",
    "def cosine_similarity(a, b):\n",
    "    return np.dot(a, b) / (np.linalg.norm(a)*np.linalg.norm(b) + 1e-12)\n"
   ]
  },
  {
   "cell_type": "code",
   "execution_count": 3,
   "id": "ef2410b0",
   "metadata": {},
   "outputs": [
    {
     "name": "stdout",
     "output_type": "stream",
     "text": [
      "Galerija sagatavota: 10 personas. Laiks: 0.03s\n"
     ]
    }
   ],
   "source": [
    "# --- 3) Galerija no train/ ---\n",
    "persons = sorted([p.name for p in BASE.iterdir() if p.is_dir() and p.name.startswith(\"person\")])\n",
    "t0 = time.perf_counter()\n",
    "gal_names, gal_vecs = [], []\n",
    "\n",
    "for pname in persons:\n",
    "    vecs = []\n",
    "    for ip in list_images(BASE / pname / \"train\"):\n",
    "        v = encode_one(ip)\n",
    "        if v is not None: vecs.append(l2n(v))\n",
    "    if vecs:\n",
    "        gal_names.append(pname)\n",
    "        gal_vecs.append(l2n(np.mean(np.stack(vecs, 0), 0)))\n",
    "\n",
    "gal_names = np.array(gal_names)\n",
    "gal_vecs  = np.array(gal_vecs)\n",
    "t1 = time.perf_counter()\n",
    "print(f\"Galerija sagatavota: {len(gal_names)} personas. Laiks: {t1-t0:.2f}s\")\n"
   ]
  },
  {
   "cell_type": "code",
   "execution_count": 4,
   "id": "ae21efac",
   "metadata": {},
   "outputs": [
    {
     "name": "stdout",
     "output_type": "stream",
     "text": [
      "τ_EER (val) = 0.3534 | EER(val) ≈ 6.45%\n",
      "τ_EER (val) = 0.3534 | EER(val) ≈ 6.45%\n"
     ]
    }
   ],
   "source": [
    "# --- 4) Sliekšņa kalibrācija (val/) ---\n",
    "genuine, impostor = [], []\n",
    "\n",
    "for pname in persons:\n",
    "    for ip in list_images(BASE / pname / \"val\"):\n",
    "        q = encode_one(ip)\n",
    "        if q is None: continue\n",
    "        qn = l2n(q)\n",
    "        sims = [cosine_similarity(qn, g) for g in gal_vecs]\n",
    "        mask = (gal_names == pname)\n",
    "        if mask.any():   genuine.append(np.max(np.array(sims)[mask]))\n",
    "        if (~mask).any(): impostor.append(np.max(np.array(sims)[~mask]))\n",
    "\n",
    "genuine = np.array(genuine)\n",
    "impostor = np.array(impostor)\n",
    "\n",
    "def eer_from_scores(genuine, impostor):\n",
    "    if len(genuine)==0 or len(impostor)==0: return 0.5, np.nan\n",
    "    cand = np.linspace(-1, 1, 400)\n",
    "    best_tau, best_gap, best_eer = 0, 1, 1\n",
    "    for t in cand:\n",
    "        FAR = (impostor >= t).mean()\n",
    "        FRR = (genuine  <  t).mean()\n",
    "        gap = abs(FAR - FRR)\n",
    "        if gap < best_gap:\n",
    "            best_tau, best_gap, best_eer = t, gap, (FAR+FRR)/2\n",
    "    return best_tau, best_eer\n",
    "\n",
    "tau_eer, eer_val = eer_from_scores(genuine, impostor)\n",
    "print(f\"τ_EER (val) = {tau_eer:.4f} | EER(val) ≈ {100*eer_val:.2f}%\")\n",
    "# --- 4) Sliekšņa kalibrācija (val/) ---\n",
    "genuine, impostor = [], []\n",
    "\n",
    "for pname in persons:\n",
    "    for ip in list_images(BASE / pname / \"val\"):\n",
    "        q = encode_one(ip)\n",
    "        if q is None: continue\n",
    "        qn = l2n(q)\n",
    "        sims = [cosine_similarity(qn, g) for g in gal_vecs]\n",
    "        mask = (gal_names == pname)\n",
    "        if mask.any():   genuine.append(np.max(np.array(sims)[mask]))\n",
    "        if (~mask).any(): impostor.append(np.max(np.array(sims)[~mask]))\n",
    "\n",
    "genuine = np.array(genuine)\n",
    "impostor = np.array(impostor)\n",
    "\n",
    "def eer_from_scores(genuine, impostor):\n",
    "    if len(genuine)==0 or len(impostor)==0: return 0.5, np.nan\n",
    "    cand = np.linspace(-1, 1, 400)\n",
    "    best_tau, best_gap, best_eer = 0, 1, 1\n",
    "    for t in cand:\n",
    "        FAR = (impostor >= t).mean()\n",
    "        FRR = (genuine  <  t).mean()\n",
    "        gap = abs(FAR - FRR)\n",
    "        if gap < best_gap:\n",
    "            best_tau, best_gap, best_eer = t, gap, (FAR+FRR)/2\n",
    "    return best_tau, best_eer\n",
    "\n",
    "tau_eer, eer_val = eer_from_scores(genuine, impostor)\n",
    "print(f\"τ_EER (val) = {tau_eer:.4f} | EER(val) ≈ {100*eer_val:.2f}%\")\n"
   ]
  },
  {
   "cell_type": "code",
   "execution_count": 5,
   "id": "7b39d8fd",
   "metadata": {},
   "outputs": [],
   "source": [
    "# --- 5) Tests ---\n",
    "rows = []  # (person, file, pred, score, ms, fps, ram, cpu)\n",
    "\n",
    "for pname in persons:\n",
    "    for ip in list_images(BASE / pname / \"test\"):\n",
    "        t0 = time.perf_counter()\n",
    "        q = encode_one(ip)\n",
    "        t1 = time.perf_counter()\n",
    "\n",
    "        if q is None:\n",
    "            pred, score = \"No face\", -1\n",
    "        else:\n",
    "            qn = l2n(q)\n",
    "            sims = [cosine_similarity(qn, g) for g in gal_vecs]\n",
    "            j = np.argmax(sims); score = sims[j]\n",
    "            pred = gal_names[j] if score >= tau_eer else \"Unknown\"\n",
    "\n",
    "        mem = PROC.memory_info().rss/(1024*1024)\n",
    "        cpu = psutil.cpu_percent(interval=None)\n",
    "        dt  = t1 - t0\n",
    "\n",
    "        rows.append((pname, ip.name, pred, score, dt*1000.0, 1/max(1e-6,dt), mem, cpu))\n"
   ]
  },
  {
   "cell_type": "code",
   "execution_count": 6,
   "id": "f003b410",
   "metadata": {},
   "outputs": [
    {
     "name": "stdout",
     "output_type": "stream",
     "text": [
      "\n",
      "--- Rezultāti (pa personām) ---\n",
      " person1: ACC=100.00% | FAR=  0.00% | FRR=  0.00% | ms=  0.53 | FPS=2160.22 | RAM=384.0 MB | CPU=8.9%\n",
      "person10: ACC=100.00% | FAR=  0.00% | FRR=  0.00% | ms=  0.39 | FPS=2604.41 | RAM=384.0 MB | CPU=0.0%\n",
      " person2: ACC=100.00% | FAR=  0.00% | FRR=  0.00% | ms=  0.40 | FPS=2515.72 | RAM=384.0 MB | CPU=0.0%\n",
      " person3: ACC=100.00% | FAR=  0.00% | FRR=  0.00% | ms=  0.40 | FPS=2535.66 | RAM=384.0 MB | CPU=0.0%\n",
      " person4: ACC=100.00% | FAR=  0.00% | FRR=  0.00% | ms=  0.36 | FPS=2838.09 | RAM=384.0 MB | CPU=0.0%\n",
      " person5: ACC=100.00% | FAR=  0.00% | FRR=  0.00% | ms=  0.33 | FPS=3095.53 | RAM=384.0 MB | CPU=7.2%\n",
      " person6: ACC=100.00% | FAR=  0.00% | FRR=  0.00% | ms=  0.31 | FPS=3214.23 | RAM=384.0 MB | CPU=0.0%\n",
      " person7: ACC=100.00% | FAR=  0.00% | FRR=  0.00% | ms=  0.42 | FPS=2411.90 | RAM=384.1 MB | CPU=0.0%\n",
      " person8: ACC=100.00% | FAR=  0.00% | FRR=  0.00% | ms=  0.31 | FPS=3253.43 | RAM=384.1 MB | CPU=0.0%\n",
      " person9: ACC=100.00% | FAR=  0.00% | FRR=  0.00% | ms=  0.30 | FPS=3376.80 | RAM=384.1 MB | CPU=0.0%\n",
      "\n",
      "--- Kopā ---\n",
      "ACC=100.00% | FAR=0.00% | FRR=0.00% | ms=0.37 | FPS=2800.60 | RAM=384.1 MB | CPU=1.6%\n"
     ]
    }
   ],
   "source": [
    "# --- 6) Kopsavilkums ---\n",
    "import collections\n",
    "by_p = collections.defaultdict(list)\n",
    "for r in rows: by_p[r[0]].append(r)\n",
    "\n",
    "print(\"\\n--- Rezultāti (pa personām) ---\")\n",
    "acc_all, far_all, frr_all, ms_all, fps_all, ram_all, cpu_all = [], [], [], [], [], [], []\n",
    "\n",
    "for pname in persons:\n",
    "    df = by_p[pname]\n",
    "    if not df: continue\n",
    "    total = len(df)\n",
    "    correct = sum(1 for *_, pred, _, _, _, _, _ in df if pred == pname)\n",
    "    fa  = sum(1 for *_, pred, _, _, _, _, _ in df if (pred != pname and pred not in [\"Unknown\",\"No face\"]))\n",
    "    frx = sum(1 for *_, pred, _, _, _, _, _ in df if pred in [\"Unknown\",\"No face\"])\n",
    "    ms  = np.mean([x[4] for x in df]); fps = np.mean([x[5] for x in df])\n",
    "    ram = np.mean([x[6] for x in df]); cpu = np.mean([x[7] for x in df])\n",
    "\n",
    "    acc = 100*correct/total; far = 100*fa/total; frr = 100*frx/total\n",
    "    acc_all.append(acc); far_all.append(far); frr_all.append(frr)\n",
    "    ms_all.append(ms); fps_all.append(fps); ram_all.append(ram); cpu_all.append(cpu)\n",
    "\n",
    "    print(f\"{pname:>8}: ACC={acc:6.2f}% | FAR={far:6.2f}% | FRR={frr:6.2f}% | ms={ms:6.2f} | FPS={fps:6.2f} | RAM={ram:.1f} MB | CPU={cpu:.1f}%\")\n",
    "\n",
    "print(\"\\n--- Kopā ---\")\n",
    "print(f\"ACC={np.mean(acc_all):.2f}% | FAR={np.mean(far_all):.2f}% | FRR={np.mean(frr_all):.2f}% | \"\n",
    "      f\"ms={np.mean(ms_all):.2f} | FPS={np.mean(fps_all):.2f} | RAM={np.mean(ram_all):.1f} MB | CPU={np.mean(cpu_all):.1f}%\")\n"
   ]
  },
  {
   "cell_type": "code",
   "execution_count": 7,
   "id": "50b062d4",
   "metadata": {},
   "outputs": [
    {
     "name": "stdout",
     "output_type": "stream",
     "text": [
      "\n",
      "EER(test) ≈ 2.94%  |  AUC(ROC, test) = 0.9935  |  τ_EER(test) = 0.3885\n",
      "EER(val)  ≈ 6.45%  |  τ_EER(val)  = 0.3534\n"
     ]
    },
    {
     "data": {
      "image/png": "[encoded data removed]",
      "text/plain": [
       "<Figure size 600x400 with 1 Axes>"
      ]
     },
     "metadata": {},
     "output_type": "display_data"
    }
   ],
   "source": [
    "# --- 7) ROC + AUC (test) ---\n",
    "genuine_t, impostor_t = [], []\n",
    "for pname in persons:\n",
    "    for ip in list_images(BASE / pname / \"test\"):\n",
    "        q = encode_one(ip)\n",
    "        if q is None: continue\n",
    "        qn = l2n(q)\n",
    "        sims = [cosine_similarity(qn, g) for g in gal_vecs]\n",
    "        mask = (gal_names == pname)\n",
    "        if mask.any():   genuine_t.append(np.max(np.array(sims)[mask]))\n",
    "        if (~mask).any(): impostor_t.append(np.max(np.array(sims)[~mask]))\n",
    "\n",
    "def roc_auc_from_scores(genuine, impostor, n=400):\n",
    "    if len(genuine)==0 or len(impostor)==0: return [0],[0],np.nan\n",
    "    lo, hi = -1, 1\n",
    "    taus = np.linspace(lo, hi, n)\n",
    "    FPR, TPR = [], []\n",
    "    for t in taus:\n",
    "        FAR = (impostor >= t).mean()\n",
    "        TPRv = (genuine >= t).mean()\n",
    "        FPR.append(FAR); TPR.append(TPRv)\n",
    "    # sakārto pēc FPR pieauguma\n",
    "    idx = np.argsort(FPR)\n",
    "    auc = np.trapz(np.array(TPR)[idx], np.array(FPR)[idx])\n",
    "    return np.array(FPR)[idx], np.array(TPR)[idx], auc\n",
    "\n",
    "tau_eer_test, eer_test = eer_from_scores(np.array(genuine_t), np.array(impostor_t))\n",
    "FPR, TPR, auc_test = roc_auc_from_scores(np.array(genuine_t), np.array(impostor_t))\n",
    "\n",
    "print(f\"\\nEER(test) ≈ {100*eer_test:.2f}%  |  AUC(ROC, test) = {auc_test:.4f}  |  τ_EER(test) = {tau_eer_test:.4f}\")\n",
    "print(f\"EER(val)  ≈ {100*eer_val:.2f}%  |  τ_EER(val)  = {tau_eer:.4f}\")\n",
    "\n",
    "plt.figure(figsize=(6,4))\n",
    "plt.plot(FPR, TPR, label=f\"ROC (AUC = {auc_test:.3f})\")\n",
    "plt.plot([0,1],[0,1],'--',alpha=0.5)\n",
    "plt.xlabel(\"FPR (FAR)\"); plt.ylabel(\"TPR (1-FRR)\")\n",
    "plt.title(\"ROC līkne (DeepFace ArcFace, tests)\")\n",
    "plt.legend(); plt.grid(alpha=0.3)\n",
    "plt.show()\n"
   ]
  }
 ],
 "metadata": {
  "kernelspec": {
   "display_name": "Python 3 (ipykernel)",
   "language": "python",
   "name": "python3"
  },
  "language_info": {
   "codemirror_mode": {
    "name": "ipython",
    "version": 3
   },
   "file_extension": ".py",
   "mimetype": "text/x-python",
   "name": "python",
   "nbconvert_exporter": "python",
   "pygments_lexer": "ipython3",
   "version": "3.10.16"
  }
 },
 "nbformat": 4,
 "nbformat_minor": 5
}
