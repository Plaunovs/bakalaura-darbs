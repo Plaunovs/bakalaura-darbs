{
 "cells": [
  {
   "cell_type": "code",
   "execution_count": 1,
   "id": "d252ac7c",
   "metadata": {},
   "outputs": [
    {
     "name": "stderr",
     "output_type": "stream",
     "text": [
      "C:\\Users\\dplau\\anaconda3\\envs\\frenv\\lib\\site-packages\\albumentations\\__init__.py:28: UserWarning: A new version of Albumentations is available: '2.0.8' (you have '2.0.5'). Upgrade using: pip install -U albumentations. To disable automatic update checks, set the environment variable NO_ALBUMENTATIONS_UPDATE to 1.\n",
      "  check_for_updates()\n"
     ]
    },
    {
     "name": "stdout",
     "output_type": "stream",
     "text": [
      "Applied providers: ['CPUExecutionProvider'], with options: {'CPUExecutionProvider': {}}\n",
      "find model: C:\\Users\\dplau/.insightface\\models\\buffalo_l\\1k3d68.onnx landmark_3d_68 ['None', 3, 192, 192] 0.0 1.0\n",
      "Applied providers: ['CPUExecutionProvider'], with options: {'CPUExecutionProvider': {}}\n",
      "find model: C:\\Users\\dplau/.insightface\\models\\buffalo_l\\2d106det.onnx landmark_2d_106 ['None', 3, 192, 192] 0.0 1.0\n",
      "Applied providers: ['CPUExecutionProvider'], with options: {'CPUExecutionProvider': {}}\n",
      "find model: C:\\Users\\dplau/.insightface\\models\\buffalo_l\\det_10g.onnx detection [1, 3, '?', '?'] 127.5 128.0\n",
      "Applied providers: ['CPUExecutionProvider'], with options: {'CPUExecutionProvider': {}}\n",
      "find model: C:\\Users\\dplau/.insightface\\models\\buffalo_l\\genderage.onnx genderage ['None', 3, 96, 96] 0.0 1.0\n",
      "Applied providers: ['CPUExecutionProvider'], with options: {'CPUExecutionProvider': {}}\n",
      "find model: C:\\Users\\dplau/.insightface\\models\\buffalo_l\\w600k_r50.onnx recognition ['None', 3, 112, 112] 127.5 127.5\n",
      "set det-size: (640, 640)\n"
     ]
    }
   ],
   "source": [
    "# --- 1) Importi + iestatījumi ---\n",
    "import os, time, random, pickle\n",
    "from pathlib import Path\n",
    "import numpy as np\n",
    "import psutil\n",
    "import matplotlib.pyplot as plt\n",
    "import cv2\n",
    "import insightface\n",
    "\n",
    "# Sistēmas resursi\n",
    "PROC = psutil.Process(os.getpid())\n",
    "\n",
    "# ==== Pielāgo šeit ====\n",
    "BASE = Path(r\"C:\\Users\\dplau\\Desktop\\bakalaura_darbs\\InsightFace\\Dataset\")\n",
    "CACHE_DIR = BASE / \"_cache_insightface\"\n",
    "CACHE_DIR.mkdir(parents=True, exist_ok=True)\n",
    "\n",
    "MODEL = \"buffalo_l\"      # ArcFace + RetinaFace\n",
    "RESIZE_MAX = 640\n",
    "USE_CACHE  = True\n",
    "SEED = 42\n",
    "random.seed(SEED); np.random.seed(SEED)\n",
    "\n",
    "# Modeļa inicializācija\n",
    "model = insightface.app.FaceAnalysis(name=MODEL, providers=['CPUExecutionProvider'])\n",
    "model.prepare(ctx_id=0, det_size=(640, 640))\n"
   ]
  },
  {
   "cell_type": "code",
   "execution_count": 2,
   "id": "fc0e1a27",
   "metadata": {},
   "outputs": [],
   "source": [
    "# --- 2) Palīgfunkcijas ---\n",
    "def list_images(folder: Path):\n",
    "    exts = {\".jpg\", \".jpeg\", \".png\"}\n",
    "    return sorted([p for p in folder.iterdir() if p.is_file() and p.suffix.lower() in exts])\n",
    "\n",
    "def load_and_downscale(path: Path, max_side=RESIZE_MAX):\n",
    "    img = cv2.imread(str(path))\n",
    "    if img is None: return None\n",
    "    h, w = img.shape[:2]\n",
    "    if max(h, w) > max_side:\n",
    "        scale = max_side / float(max(h, w))\n",
    "        img = cv2.resize(img, (int(w*scale), int(h*scale)))\n",
    "    return cv2.cvtColor(img, cv2.COLOR_BGR2RGB)\n",
    "\n",
    "def encode_one(path: Path):\n",
    "    \"\"\"Atgriež 512D embedding ar ArcFace, vai None ja seja nav atrasta.\"\"\"\n",
    "    cf = CACHE_DIR / (path.stem + \".pkl\")\n",
    "    if USE_CACHE and cf.exists():\n",
    "        try: return pickle.load(open(cf, \"rb\"))\n",
    "        except Exception: pass\n",
    "\n",
    "    rgb = load_and_downscale(path)\n",
    "    if rgb is None: return None\n",
    "\n",
    "    faces = model.get(rgb)\n",
    "    if not faces: \n",
    "        vec = None\n",
    "    else:\n",
    "        vec = faces[0].normed_embedding.astype(np.float32)\n",
    "\n",
    "    if USE_CACHE: pickle.dump(vec, open(cf, \"wb\"))\n",
    "    return vec\n",
    "\n",
    "def l2n(v):\n",
    "    n = np.linalg.norm(v) + 1e-12\n",
    "    return v / n\n",
    "\n",
    "def cosine_similarity(a, b):\n",
    "    return np.dot(a, b) / (np.linalg.norm(a)*np.linalg.norm(b) + 1e-12)\n"
   ]
  },
  {
   "cell_type": "code",
   "execution_count": 3,
   "id": "5b738041",
   "metadata": {},
   "outputs": [
    {
     "name": "stdout",
     "output_type": "stream",
     "text": [
      "Galerija sagatavota: 10 personas. Laiks: 0.04s\n"
     ]
    }
   ],
   "source": [
    "# --- 3) Galerija no train/ ---\n",
    "persons = sorted([p.name for p in BASE.iterdir() if p.is_dir() and p.name.startswith(\"person\")])\n",
    "t0 = time.perf_counter()\n",
    "gal_names, gal_vecs = [], []\n",
    "\n",
    "for pname in persons:\n",
    "    vecs = []\n",
    "    for ip in list_images(BASE / pname / \"train\"):\n",
    "        v = encode_one(ip)\n",
    "        if v is not None: vecs.append(l2n(v))\n",
    "    if vecs:\n",
    "        gal_names.append(pname)\n",
    "        gal_vecs.append(l2n(np.mean(np.stack(vecs, 0), 0)))\n",
    "\n",
    "gal_names = np.array(gal_names)\n",
    "gal_vecs  = np.array(gal_vecs)\n",
    "t1 = time.perf_counter()\n",
    "print(f\"Galerija sagatavota: {len(gal_names)} personas. Laiks: {t1-t0:.2f}s\")\n"
   ]
  },
  {
   "cell_type": "code",
   "execution_count": 4,
   "id": "9344338e",
   "metadata": {},
   "outputs": [
    {
     "name": "stdout",
     "output_type": "stream",
     "text": [
      "τ_EER (val) = 0.1629 | EER(val) ≈ 3.23%\n"
     ]
    }
   ],
   "source": [
    "# --- 4) Sliekšņa kalibrācija (val/) ---\n",
    "genuine, impostor = [], []\n",
    "\n",
    "for pname in persons:\n",
    "    for ip in list_images(BASE / pname / \"val\"):\n",
    "        q = encode_one(ip)\n",
    "        if q is None: continue\n",
    "        qn = l2n(q)\n",
    "        sims = [cosine_similarity(qn, g) for g in gal_vecs]\n",
    "        mask = (gal_names == pname)\n",
    "        if mask.any():   genuine.append(np.max(np.array(sims)[mask]))\n",
    "        if (~mask).any(): impostor.append(np.max(np.array(sims)[~mask]))\n",
    "\n",
    "genuine = np.array(genuine)\n",
    "impostor = np.array(impostor)\n",
    "\n",
    "def eer_from_scores(genuine, impostor):\n",
    "    if len(genuine)==0 or len(impostor)==0: return 0.5, np.nan\n",
    "    cand = np.linspace(-1, 1, 400)\n",
    "    best_tau, best_gap, best_eer = 0, 1, 1\n",
    "    for t in cand:\n",
    "        FAR = (impostor >= t).mean()\n",
    "        FRR = (genuine  <  t).mean()\n",
    "        gap = abs(FAR - FRR)\n",
    "        if gap < best_gap:\n",
    "            best_tau, best_gap, best_eer = t, gap, (FAR+FRR)/2\n",
    "    return best_tau, best_eer\n",
    "\n",
    "tau_eer, eer_val = eer_from_scores(genuine, impostor)\n",
    "print(f\"τ_EER (val) = {tau_eer:.4f} | EER(val) ≈ {100*eer_val:.2f}%\")\n"
   ]
  },
  {
   "cell_type": "code",
   "execution_count": 5,
   "id": "1dc3b553",
   "metadata": {},
   "outputs": [],
   "source": [
    "# --- 5) Tests ---\n",
    "rows = []  # (person, file, pred, score, ms, fps, ram, cpu)\n",
    "\n",
    "for pname in persons:\n",
    "    for ip in list_images(BASE / pname / \"test\"):\n",
    "        t0 = time.perf_counter()\n",
    "        q = encode_one(ip)\n",
    "        t1 = time.perf_counter()\n",
    "\n",
    "        if q is None:\n",
    "            pred, score = \"No face\", -1\n",
    "        else:\n",
    "            qn = l2n(q)\n",
    "            sims = [cosine_similarity(qn, g) for g in gal_vecs]\n",
    "            j = np.argmax(sims); score = sims[j]\n",
    "            pred = gal_names[j] if score >= tau_eer else \"Unknown\"\n",
    "\n",
    "        mem = PROC.memory_info().rss/(1024*1024)\n",
    "        cpu = psutil.cpu_percent(interval=None)\n",
    "        dt  = t1 - t0\n",
    "        rows.append((pname, ip.name, pred, score, dt*1000.0, 1/max(1e-6,dt), mem, cpu))\n"
   ]
  },
  {
   "cell_type": "code",
   "execution_count": 6,
   "id": "b95e6dca",
   "metadata": {},
   "outputs": [
    {
     "name": "stdout",
     "output_type": "stream",
     "text": [
      "\n",
      "--- Rezultāti (pa personām) ---\n",
      " person1: ACC=100.00% | FAR=  0.00% | FRR=  0.00% | ms=  0.43 | FPS=2334.65 | RAM=632.3 MB | CPU=14.6%\n",
      "person10: ACC= 60.00% | FAR=  0.00% | FRR= 40.00% | ms=  0.27 | FPS=3874.37 | RAM=632.3 MB | CPU=0.0%\n",
      " person2: ACC=100.00% | FAR=  0.00% | FRR=  0.00% | ms=  0.22 | FPS=4557.88 | RAM=632.3 MB | CPU=0.0%\n",
      " person3: ACC=100.00% | FAR=  0.00% | FRR=  0.00% | ms=  0.22 | FPS=4473.73 | RAM=632.3 MB | CPU=0.0%\n",
      " person4: ACC=100.00% | FAR=  0.00% | FRR=  0.00% | ms=  0.22 | FPS=4584.93 | RAM=632.3 MB | CPU=12.5%\n",
      " person5: ACC=100.00% | FAR=  0.00% | FRR=  0.00% | ms=  0.27 | FPS=3907.76 | RAM=632.3 MB | CPU=0.0%\n",
      " person6: ACC=100.00% | FAR=  0.00% | FRR=  0.00% | ms=  0.29 | FPS=3745.80 | RAM=632.3 MB | CPU=0.0%\n",
      " person7: ACC=100.00% | FAR=  0.00% | FRR=  0.00% | ms=  0.35 | FPS=3010.42 | RAM=632.3 MB | CPU=0.0%\n",
      " person8: ACC=100.00% | FAR=  0.00% | FRR=  0.00% | ms=  0.34 | FPS=2907.19 | RAM=632.3 MB | CPU=0.0%\n",
      " person9: ACC=100.00% | FAR=  0.00% | FRR=  0.00% | ms=  0.33 | FPS=3048.55 | RAM=632.3 MB | CPU=0.0%\n",
      "\n",
      "--- Kopā ---\n",
      "ACC=96.00% | FAR=0.00% | FRR=4.00% | ms=0.29 | FPS=3644.53 | RAM=632.3 MB | CPU=2.7%\n"
     ]
    }
   ],
   "source": [
    "# --- 6) Kopsavilkums ---\n",
    "import collections\n",
    "by_p = collections.defaultdict(list)\n",
    "for r in rows: by_p[r[0]].append(r)\n",
    "\n",
    "print(\"\\n--- Rezultāti (pa personām) ---\")\n",
    "acc_all, far_all, frr_all, ms_all, fps_all, ram_all, cpu_all = [], [], [], [], [], [], []\n",
    "\n",
    "for pname in persons:\n",
    "    df = by_p[pname]\n",
    "    if not df: continue\n",
    "    total = len(df)\n",
    "    correct = sum(1 for *_, pred, _, _, _, _, _ in df if pred == pname)\n",
    "    fa  = sum(1 for *_, pred, _, _, _, _, _ in df if (pred != pname and pred not in [\"Unknown\",\"No face\"]))\n",
    "    frx = sum(1 for *_, pred, _, _, _, _, _ in df if pred in [\"Unknown\",\"No face\"])\n",
    "    ms  = np.mean([x[4] for x in df]); fps = np.mean([x[5] for x in df])\n",
    "    ram = np.mean([x[6] for x in df]); cpu = np.mean([x[7] for x in df])\n",
    "\n",
    "    acc = 100*correct/total; far = 100*fa/total; frr = 100*frx/total\n",
    "    acc_all.append(acc); far_all.append(far); frr_all.append(frr)\n",
    "    ms_all.append(ms); fps_all.append(fps); ram_all.append(ram); cpu_all.append(cpu)\n",
    "\n",
    "    print(f\"{pname:>8}: ACC={acc:6.2f}% | FAR={far:6.2f}% | FRR={frr:6.2f}% | ms={ms:6.2f} | FPS={fps:6.2f} | RAM={ram:.1f} MB | CPU={cpu:.1f}%\")\n",
    "\n",
    "print(\"\\n--- Kopā ---\")\n",
    "print(f\"ACC={np.mean(acc_all):.2f}% | FAR={np.mean(far_all):.2f}% | FRR={np.mean(frr_all):.2f}% | \"\n",
    "      f\"ms={np.mean(ms_all):.2f} | FPS={np.mean(fps_all):.2f} | RAM={np.mean(ram_all):.1f} MB | CPU={np.mean(cpu_all):.1f}%\")\n"
   ]
  },
  {
   "cell_type": "code",
   "execution_count": 7,
   "id": "efada020",
   "metadata": {},
   "outputs": [
    {
     "name": "stdout",
     "output_type": "stream",
     "text": [
      "\n",
      "EER(test) ≈ 5.88%  |  AUC(ROC, test) = 0.9433  |  τ_EER(test) = 0.1679\n",
      "EER(val)  ≈ 3.23%  |  τ_EER(val)  = 0.1629\n"
     ]
    },
    {
     "data": {
      "image/png": "[encoded data removed]",
      "text/plain": [
       "<Figure size 600x400 with 1 Axes>"
      ]
     },
     "metadata": {},
     "output_type": "display_data"
    }
   ],
   "source": [
    "# --- 7) ROC + AUC (test) ---\n",
    "genuine_t, impostor_t = [], []\n",
    "for pname in persons:\n",
    "    for ip in list_images(BASE / pname / \"test\"):\n",
    "        q = encode_one(ip)\n",
    "        if q is None: continue\n",
    "        qn = l2n(q)\n",
    "        sims = [cosine_similarity(qn, g) for g in gal_vecs]\n",
    "        mask = (gal_names == pname)\n",
    "        if mask.any():   genuine_t.append(np.max(np.array(sims)[mask]))\n",
    "        if (~mask).any(): impostor_t.append(np.max(np.array(sims)[~mask]))\n",
    "\n",
    "def roc_auc_from_scores(genuine, impostor, n=400):\n",
    "    if len(genuine)==0 or len(impostor)==0: return [0],[0],np.nan\n",
    "    taus = np.linspace(1, -1, n)   # <-- mainīts virziens!\n",
    "    FPR, TPR = [], []\n",
    "    for t in taus:\n",
    "        FAR = (impostor >= t).mean()\n",
    "        TPRv = (genuine >= t).mean()\n",
    "        FPR.append(FAR); TPR.append(TPRv)\n",
    "    auc = np.trapz(TPR, FPR)\n",
    "    return FPR, TPR, auc\n",
    "\n",
    "tau_eer_test, eer_test = eer_from_scores(np.array(genuine_t), np.array(impostor_t))\n",
    "FPR, TPR, auc_test = roc_auc_from_scores(np.array(genuine_t), np.array(impostor_t))\n",
    "\n",
    "print(f\"\\nEER(test) ≈ {100*eer_test:.2f}%  |  AUC(ROC, test) = {auc_test:.4f}  |  τ_EER(test) = {tau_eer_test:.4f}\")\n",
    "print(f\"EER(val)  ≈ {100*eer_val:.2f}%  |  τ_EER(val)  = {tau_eer:.4f}\")\n",
    "\n",
    "plt.figure(figsize=(6,4))\n",
    "plt.plot(FPR, TPR, label=f\"ROC (AUC = {auc_test:.3f})\")\n",
    "plt.plot([0,1],[0,1],'--',alpha=0.5)\n",
    "plt.xlabel(\"FPR (FAR)\"); plt.ylabel(\"TPR (1-FRR)\")\n",
    "plt.title(\"ROC līkne (InsightFace ArcFace, tests)\")\n",
    "plt.legend(); plt.grid(alpha=0.3)\n",
    "plt.show()\n"
   ]
  },
  {
   "cell_type": "code",
   "execution_count": 8,
   "id": "2891a28f",
   "metadata": {},
   "outputs": [
    {
     "name": "stdout",
     "output_type": "stream",
     "text": [
      "\n",
      "--- Personas ar kļūdām ---\n",
      "person10: fails=person_10_018.jpg | prognoze=Unknown | dist=0.0770 | ms=0.23 | FPS=4393.7\n",
      "person10: fails=person_10_020.jpg | prognoze=Unknown | dist=0.0820 | ms=0.23 | FPS=4264.4\n"
     ]
    }
   ],
   "source": [
    "# --- 8) Kļūdaino piemēru izvadīšana ---\n",
    "print(\"\\n--- Personas ar kļūdām ---\")\n",
    "errors = []\n",
    "for pname, fname, pred, score, ms, fps, ram, cpu in rows:\n",
    "    if pred != pname:  # prognoze nesakrīt ar patieso personu\n",
    "        errors.append((pname, fname, pred, score, ms, fps, ram, cpu))\n",
    "\n",
    "if not errors:\n",
    "    print(\"Kļūdainu atpazīšanu nav.\")\n",
    "else:\n",
    "    for (pname, fname, pred, score, ms, fps, ram, cpu) in errors:\n",
    "        print(f\"{pname}: fails={fname} | prognoze={pred} | dist={score:.4f} | ms={ms:.2f} | FPS={fps:.1f}\")\n"
   ]
  }
 ],
 "metadata": {
  "kernelspec": {
   "display_name": "Python 3 (ipykernel)",
   "language": "python",
   "name": "python3"
  },
  "language_info": {
   "codemirror_mode": {
    "name": "ipython",
    "version": 3
   },
   "file_extension": ".py",
   "mimetype": "text/x-python",
   "name": "python",
   "nbconvert_exporter": "python",
   "pygments_lexer": "ipython3",
   "version": "3.10.16"
  }
 },
 "nbformat": 4,
 "nbformat_minor": 5
}
